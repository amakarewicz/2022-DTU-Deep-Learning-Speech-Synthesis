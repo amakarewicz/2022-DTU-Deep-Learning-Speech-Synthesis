{
 "cells": [
  {
   "cell_type": "code",
   "execution_count": 1,
   "metadata": {},
   "outputs": [],
   "source": [
    "import diffwave # github installation!!!\n",
    "import torch\n",
    "import numpy as np\n",
    "from diffwave.dataset import *\n",
    "from diffwave.params import params, AttrDict # unconditional parameter not accessible?\n",
    "from diffwave.preprocess import *\n",
    "from diffwave.model import *"
   ]
  },
  {
   "cell_type": "code",
   "execution_count": 2,
   "metadata": {},
   "outputs": [],
   "source": [
    "data = diffwave.dataset.from_path(['./../data/LJ028'], params)"
   ]
  },
  {
   "cell_type": "code",
   "execution_count": 3,
   "metadata": {},
   "outputs": [
    {
     "data": {
      "text/plain": [
       "518"
      ]
     },
     "execution_count": 3,
     "metadata": {},
     "output_type": "execute_result"
    }
   ],
   "source": [
    "len(data.dataset.filenames)"
   ]
  },
  {
   "cell_type": "code",
   "execution_count": 4,
   "metadata": {},
   "outputs": [],
   "source": [
    "# diffwave.preprocess.main(AttrDict({'dir': './../data/LJ028'}))"
   ]
  },
  {
   "cell_type": "code",
   "execution_count": 5,
   "metadata": {},
   "outputs": [],
   "source": [
    "from diffwave.inference import predict as diffwave_predict\n",
    "\n",
    "spectrogram = np.load(\"./../data/LJ028/LJ028-0001.wav.spec.npy\")\n",
    "model_dir = './../diffwave-ljspeech-22kHz-1000578.pt'\n",
    "x = torch.from_numpy(spectrogram)"
   ]
  },
  {
   "cell_type": "code",
   "execution_count": 6,
   "metadata": {},
   "outputs": [],
   "source": [
    "audio, sample_rate = diffwave_predict(x, model_dir, fast_sampling=True)"
   ]
  },
  {
   "cell_type": "code",
   "execution_count": 7,
   "metadata": {},
   "outputs": [
    {
     "data": {
      "text/plain": [
       "True"
      ]
     },
     "execution_count": 7,
     "metadata": {},
     "output_type": "execute_result"
    }
   ],
   "source": [
    "torch.cuda.is_available()"
   ]
  },
  {
   "cell_type": "code",
   "execution_count": 9,
   "metadata": {},
   "outputs": [],
   "source": [
    "model = DiffWave(params)\n",
    "optimizer = torch.optim.Adam(model.parameters())"
   ]
  },
  {
   "cell_type": "code",
   "execution_count": 11,
   "metadata": {},
   "outputs": [],
   "source": [
    "from diffwave.learner import *\n",
    "Learner = DiffWaveLearner('../model/conditional_model', model, data, optimizer, params)"
   ]
  },
  {
   "cell_type": "code",
   "execution_count": null,
   "metadata": {},
   "outputs": [
    {
     "name": "stderr",
     "output_type": "stream",
     "text": [
      "Epoch 0: 100%|██████████| 32/32 [30:27<00:00, 57.11s/it]\n",
      "Epoch 1: 100%|██████████| 32/32 [29:50<00:00, 55.95s/it]\n",
      "Epoch 2: 100%|██████████| 32/32 [30:18<00:00, 56.82s/it]\n",
      "Epoch 3: 100%|██████████| 32/32 [30:53<00:00, 57.94s/it]\n",
      "Epoch 4: 100%|██████████| 32/32 [30:38<00:00, 57.44s/it]\n",
      "Epoch 5: 100%|██████████| 32/32 [30:54<00:00, 57.96s/it]\n",
      "Epoch 6: 100%|██████████| 32/32 [30:20<00:00, 56.88s/it]\n",
      "Epoch 7: 100%|██████████| 32/32 [29:42<00:00, 55.71s/it]\n",
      "Epoch 8: 100%|██████████| 32/32 [29:28<00:00, 55.28s/it]\n",
      "Epoch 9: 100%|██████████| 32/32 [29:43<00:00, 55.73s/it]\n",
      "Epoch 10: 100%|██████████| 32/32 [29:44<00:00, 55.77s/it]\n",
      "Epoch 11: 100%|██████████| 32/32 [29:33<00:00, 55.43s/it]\n",
      "Epoch 12: 100%|██████████| 32/32 [29:46<00:00, 55.83s/it]\n",
      "Epoch 13: 100%|██████████| 32/32 [29:38<00:00, 55.56s/it]\n",
      "Epoch 14: 100%|██████████| 32/32 [29:22<00:00, 55.09s/it]\n",
      "Epoch 15: 100%|██████████| 32/32 [29:33<00:00, 55.43s/it]\n",
      "Epoch 16: 100%|██████████| 32/32 [29:15<00:00, 54.85s/it]\n",
      "Epoch 17: 100%|██████████| 32/32 [29:37<00:00, 55.56s/it]\n",
      "Epoch 18: 100%|██████████| 32/32 [29:56<00:00, 56.13s/it]\n",
      "Epoch 19: 100%|██████████| 32/32 [29:44<00:00, 55.75s/it]\n",
      "Epoch 20: 100%|██████████| 32/32 [29:32<00:00, 55.39s/it]\n",
      "Epoch 21: 100%|██████████| 32/32 [29:47<00:00, 55.87s/it]\n",
      "Epoch 22: 100%|██████████| 32/32 [29:35<00:00, 55.48s/it]\n",
      "Epoch 23: 100%|██████████| 32/32 [29:16<00:00, 54.90s/it]\n",
      "Epoch 24: 100%|██████████| 32/32 [29:50<00:00, 55.96s/it]\n",
      "Epoch 25: 100%|██████████| 32/32 [29:39<00:00, 55.61s/it]\n",
      "Epoch 26: 100%|██████████| 32/32 [29:29<00:00, 55.30s/it]\n",
      "Epoch 27: 100%|██████████| 32/32 [29:28<00:00, 55.26s/it]\n",
      "Epoch 28: 100%|██████████| 32/32 [29:36<00:00, 55.50s/it]\n",
      "Epoch 29: 100%|██████████| 32/32 [29:53<00:00, 56.06s/it]\n",
      "Epoch 30: 100%|██████████| 32/32 [29:00<00:00, 54.38s/it]\n",
      "Epoch 31: 100%|██████████| 32/32 [29:47<00:00, 55.87s/it]\n",
      "Epoch 32: 100%|██████████| 32/32 [29:09<00:00, 54.66s/it]\n",
      "Epoch 33: 100%|██████████| 32/32 [29:10<00:00, 54.72s/it]\n",
      "Epoch 34: 100%|██████████| 32/32 [29:44<00:00, 55.77s/it]\n",
      "Epoch 35: 100%|██████████| 32/32 [29:06<00:00, 54.56s/it]\n",
      "Epoch 36: 100%|██████████| 32/32 [29:24<00:00, 55.14s/it]\n",
      "Epoch 37: 100%|██████████| 32/32 [29:09<00:00, 54.67s/it]\n",
      "Epoch 38: 100%|██████████| 32/32 [30:09<00:00, 56.55s/it]\n",
      "Epoch 39: 100%|██████████| 32/32 [29:36<00:00, 55.53s/it]\n",
      "Epoch 40: 100%|██████████| 32/32 [30:16<00:00, 56.77s/it]\n",
      "Epoch 41: 100%|██████████| 32/32 [30:07<00:00, 56.47s/it]\n",
      "Epoch 42: 100%|██████████| 32/32 [29:43<00:00, 55.72s/it]\n",
      "Epoch 43: 100%|██████████| 32/32 [29:59<00:00, 56.23s/it]\n",
      "Epoch 44: 100%|██████████| 32/32 [30:23<00:00, 56.97s/it]\n",
      "Epoch 45: 100%|██████████| 32/32 [29:51<00:00, 55.98s/it]\n",
      "Epoch 46: 100%|██████████| 32/32 [30:32<00:00, 57.28s/it]\n",
      "Epoch 47:  38%|███▊      | 12/32 [11:39<19:24, 58.23s/it]"
     ]
    }
   ],
   "source": [
    "Learner.train()"
   ]
  }
 ],
 "metadata": {
  "kernelspec": {
   "display_name": "Python 3",
   "language": "python",
   "name": "python3"
  },
  "language_info": {
   "codemirror_mode": {
    "name": "ipython",
    "version": 3
   },
   "file_extension": ".py",
   "mimetype": "text/x-python",
   "name": "python",
   "nbconvert_exporter": "python",
   "pygments_lexer": "ipython3",
   "version": "3.6.8"
  },
  "vscode": {
   "interpreter": {
    "hash": "a6b2363cd4e66fb1f73bd9b92c137dc782341354da1b3a23838b5e665f401a9a"
   }
  }
 },
 "nbformat": 4,
 "nbformat_minor": 2
}
