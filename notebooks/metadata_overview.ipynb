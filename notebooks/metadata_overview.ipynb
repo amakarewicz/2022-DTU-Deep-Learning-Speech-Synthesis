{
 "cells": [
  {
   "cell_type": "code",
   "execution_count": 1,
   "metadata": {},
   "outputs": [],
   "source": [
    "import pandas as pd\n",
    "import numpy as np\n",
    "import os"
   ]
  },
  {
   "cell_type": "code",
   "execution_count": 2,
   "metadata": {},
   "outputs": [
    {
     "data": {
      "text/html": [
       "<div>\n",
       "<style scoped>\n",
       "    .dataframe tbody tr th:only-of-type {\n",
       "        vertical-align: middle;\n",
       "    }\n",
       "\n",
       "    .dataframe tbody tr th {\n",
       "        vertical-align: top;\n",
       "    }\n",
       "\n",
       "    .dataframe thead th {\n",
       "        text-align: right;\n",
       "    }\n",
       "</style>\n",
       "<table border=\"1\" class=\"dataframe\">\n",
       "  <thead>\n",
       "    <tr style=\"text-align: right;\">\n",
       "      <th></th>\n",
       "      <th>ID</th>\n",
       "      <th>Transcription</th>\n",
       "      <th>Normalized transcription</th>\n",
       "    </tr>\n",
       "  </thead>\n",
       "  <tbody>\n",
       "    <tr>\n",
       "      <th>0</th>\n",
       "      <td>LJ001-0001</td>\n",
       "      <td>Printing, in the only sense with which we are ...</td>\n",
       "      <td>Printing, in the only sense with which we are ...</td>\n",
       "    </tr>\n",
       "    <tr>\n",
       "      <th>1</th>\n",
       "      <td>LJ001-0002</td>\n",
       "      <td>in being comparatively modern.</td>\n",
       "      <td>in being comparatively modern.</td>\n",
       "    </tr>\n",
       "    <tr>\n",
       "      <th>2</th>\n",
       "      <td>LJ001-0003</td>\n",
       "      <td>For although the Chinese took impressions from...</td>\n",
       "      <td>For although the Chinese took impressions from...</td>\n",
       "    </tr>\n",
       "    <tr>\n",
       "      <th>3</th>\n",
       "      <td>LJ001-0004</td>\n",
       "      <td>produced the block books, which were the immed...</td>\n",
       "      <td>produced the block books, which were the immed...</td>\n",
       "    </tr>\n",
       "    <tr>\n",
       "      <th>4</th>\n",
       "      <td>LJ001-0005</td>\n",
       "      <td>the invention of movable metal letters in the ...</td>\n",
       "      <td>the invention of movable metal letters in the ...</td>\n",
       "    </tr>\n",
       "  </tbody>\n",
       "</table>\n",
       "</div>"
      ],
      "text/plain": [
       "           ID                                      Transcription  \\\n",
       "0  LJ001-0001  Printing, in the only sense with which we are ...   \n",
       "1  LJ001-0002                     in being comparatively modern.   \n",
       "2  LJ001-0003  For although the Chinese took impressions from...   \n",
       "3  LJ001-0004  produced the block books, which were the immed...   \n",
       "4  LJ001-0005  the invention of movable metal letters in the ...   \n",
       "\n",
       "                            Normalized transcription  \n",
       "0  Printing, in the only sense with which we are ...  \n",
       "1                     in being comparatively modern.  \n",
       "2  For although the Chinese took impressions from...  \n",
       "3  produced the block books, which were the immed...  \n",
       "4  the invention of movable metal letters in the ...  "
      ]
     },
     "execution_count": 2,
     "metadata": {},
     "output_type": "execute_result"
    }
   ],
   "source": [
    "metadata = pd.read_csv('./../data/metadata.csv', sep='|', header=None)\n",
    "metadata.columns = ['ID', 'Transcription', 'Normalized transcription']\n",
    "metadata.head()"
   ]
  },
  {
   "cell_type": "code",
   "execution_count": 3,
   "metadata": {},
   "outputs": [
    {
     "data": {
      "text/plain": [
       "LJ028    518\n",
       "LJ016    440\n",
       "LJ019    399\n",
       "LJ018    398\n",
       "LJ003    348\n",
       "LJ002    337\n",
       "LJ014    336\n",
       "LJ008    318\n",
       "LJ010    317\n",
       "LJ015    314\n",
       "Name: Speaker, dtype: int64"
      ]
     },
     "execution_count": 3,
     "metadata": {},
     "output_type": "execute_result"
    }
   ],
   "source": [
    "metadata['Speaker'] = metadata.ID.apply(lambda x: x.split('-')[0])\n",
    "speakers_count = metadata.Speaker.value_counts()\n",
    "speakers_count[:10]"
   ]
  },
  {
   "cell_type": "code",
   "execution_count": 4,
   "metadata": {},
   "outputs": [],
   "source": [
    "# os.mkdir('./../data/LJ028')"
   ]
  },
  {
   "cell_type": "code",
   "execution_count": 5,
   "metadata": {},
   "outputs": [],
   "source": [
    "metadata_028 = metadata[metadata.ID.str.startswith('LJ028')].drop('Speaker', axis=1)"
   ]
  },
  {
   "cell_type": "code",
   "execution_count": 6,
   "metadata": {},
   "outputs": [
    {
     "data": {
      "text/html": [
       "<div>\n",
       "<style scoped>\n",
       "    .dataframe tbody tr th:only-of-type {\n",
       "        vertical-align: middle;\n",
       "    }\n",
       "\n",
       "    .dataframe tbody tr th {\n",
       "        vertical-align: top;\n",
       "    }\n",
       "\n",
       "    .dataframe thead th {\n",
       "        text-align: right;\n",
       "    }\n",
       "</style>\n",
       "<table border=\"1\" class=\"dataframe\">\n",
       "  <thead>\n",
       "    <tr style=\"text-align: right;\">\n",
       "      <th></th>\n",
       "      <th>ID</th>\n",
       "      <th>Transcription</th>\n",
       "      <th>Normalized transcription</th>\n",
       "    </tr>\n",
       "  </thead>\n",
       "  <tbody>\n",
       "    <tr>\n",
       "      <th>7259</th>\n",
       "      <td>LJ028-0001</td>\n",
       "      <td>The Seven Wonders of the Ancient World. By Edg...</td>\n",
       "      <td>The Seven Wonders of the Ancient World. By Edg...</td>\n",
       "    </tr>\n",
       "    <tr>\n",
       "      <th>7260</th>\n",
       "      <td>LJ028-0002</td>\n",
       "      <td>In the old city of Damascus you climb to the h...</td>\n",
       "      <td>In the old city of Damascus you climb to the h...</td>\n",
       "    </tr>\n",
       "    <tr>\n",
       "      <th>7261</th>\n",
       "      <td>LJ028-0003</td>\n",
       "      <td>With guides and guards about you, you ride thr...</td>\n",
       "      <td>With guides and guards about you, you ride thr...</td>\n",
       "    </tr>\n",
       "    <tr>\n",
       "      <th>7262</th>\n",
       "      <td>LJ028-0004</td>\n",
       "      <td>and along the narrow winding lane which was on...</td>\n",
       "      <td>and along the narrow winding lane which was on...</td>\n",
       "    </tr>\n",
       "    <tr>\n",
       "      <th>7263</th>\n",
       "      <td>LJ028-0005</td>\n",
       "      <td>Leaving the city by the eastern gate, and pass...</td>\n",
       "      <td>Leaving the city by the eastern gate, and pass...</td>\n",
       "    </tr>\n",
       "    <tr>\n",
       "      <th>...</th>\n",
       "      <td>...</td>\n",
       "      <td>...</td>\n",
       "      <td>...</td>\n",
       "    </tr>\n",
       "    <tr>\n",
       "      <th>7772</th>\n",
       "      <td>LJ028-0515</td>\n",
       "      <td>Such were the walls of Babylon,</td>\n",
       "      <td>Such were the walls of Babylon,</td>\n",
       "    </tr>\n",
       "    <tr>\n",
       "      <th>7773</th>\n",
       "      <td>LJ028-0516</td>\n",
       "      <td>the strongest, the thickest, the loftiest, the...</td>\n",
       "      <td>the strongest, the thickest, the loftiest, the...</td>\n",
       "    </tr>\n",
       "    <tr>\n",
       "      <th>7774</th>\n",
       "      <td>LJ028-0517</td>\n",
       "      <td>walls which no ancient army was ever able to t...</td>\n",
       "      <td>walls which no ancient army was ever able to t...</td>\n",
       "    </tr>\n",
       "    <tr>\n",
       "      <th>7775</th>\n",
       "      <td>LJ028-0518</td>\n",
       "      <td>It is not strange, then, that they were includ...</td>\n",
       "      <td>It is not strange, then, that they were includ...</td>\n",
       "    </tr>\n",
       "    <tr>\n",
       "      <th>7776</th>\n",
       "      <td>LJ028-0519</td>\n",
       "      <td>or that the Babylonian soldier stood confident...</td>\n",
       "      <td>or that the Babylonian soldier stood confident...</td>\n",
       "    </tr>\n",
       "  </tbody>\n",
       "</table>\n",
       "<p>518 rows × 3 columns</p>\n",
       "</div>"
      ],
      "text/plain": [
       "              ID                                      Transcription  \\\n",
       "7259  LJ028-0001  The Seven Wonders of the Ancient World. By Edg...   \n",
       "7260  LJ028-0002  In the old city of Damascus you climb to the h...   \n",
       "7261  LJ028-0003  With guides and guards about you, you ride thr...   \n",
       "7262  LJ028-0004  and along the narrow winding lane which was on...   \n",
       "7263  LJ028-0005  Leaving the city by the eastern gate, and pass...   \n",
       "...          ...                                                ...   \n",
       "7772  LJ028-0515                    Such were the walls of Babylon,   \n",
       "7773  LJ028-0516  the strongest, the thickest, the loftiest, the...   \n",
       "7774  LJ028-0517  walls which no ancient army was ever able to t...   \n",
       "7775  LJ028-0518  It is not strange, then, that they were includ...   \n",
       "7776  LJ028-0519  or that the Babylonian soldier stood confident...   \n",
       "\n",
       "                               Normalized transcription  \n",
       "7259  The Seven Wonders of the Ancient World. By Edg...  \n",
       "7260  In the old city of Damascus you climb to the h...  \n",
       "7261  With guides and guards about you, you ride thr...  \n",
       "7262  and along the narrow winding lane which was on...  \n",
       "7263  Leaving the city by the eastern gate, and pass...  \n",
       "...                                                 ...  \n",
       "7772                    Such were the walls of Babylon,  \n",
       "7773  the strongest, the thickest, the loftiest, the...  \n",
       "7774  walls which no ancient army was ever able to t...  \n",
       "7775  It is not strange, then, that they were includ...  \n",
       "7776  or that the Babylonian soldier stood confident...  \n",
       "\n",
       "[518 rows x 3 columns]"
      ]
     },
     "execution_count": 6,
     "metadata": {},
     "output_type": "execute_result"
    }
   ],
   "source": [
    "metadata_028"
   ]
  },
  {
   "cell_type": "code",
   "execution_count": 7,
   "metadata": {},
   "outputs": [],
   "source": [
    "# metadata_028.to_csv('./../data/metadata_LJ028.csv', header=True, index=False, sep='|')"
   ]
  }
 ],
 "metadata": {
  "kernelspec": {
   "display_name": "Python 3.9.13 ('deeplearning')",
   "language": "python",
   "name": "python3"
  },
  "language_info": {
   "codemirror_mode": {
    "name": "ipython",
    "version": 3
   },
   "file_extension": ".py",
   "mimetype": "text/x-python",
   "name": "python",
   "nbconvert_exporter": "python",
   "pygments_lexer": "ipython3",
   "version": "3.9.13"
  },
  "orig_nbformat": 4,
  "vscode": {
   "interpreter": {
    "hash": "2bcf98b6451a01f025c19b66a5fed4c8b8cc41dbc849d486211c8844d2b60ab4"
   }
  }
 },
 "nbformat": 4,
 "nbformat_minor": 2
}
