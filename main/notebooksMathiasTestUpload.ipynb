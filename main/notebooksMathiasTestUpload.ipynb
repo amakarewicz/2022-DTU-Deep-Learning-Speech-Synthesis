{
  "nbformat": 4,
  "nbformat_minor": 0,
  "metadata": {
    "colab": {
      "provenance": [],
      "authorship_tag": "ABX9TyO6e/zwLACkpi+5Tw4v6kuz",
      "include_colab_link": true
    },
    "kernelspec": {
      "name": "python3",
      "display_name": "Python 3"
    },
    "language_info": {
      "name": "python"
    }
  },
  "cells": [
    {
      "cell_type": "markdown",
      "metadata": {
        "id": "view-in-github",
        "colab_type": "text"
      },
      "source": [
        "<a href=\"https://colab.research.google.com/github/amakarewicz/2022-DTU-Deep-Learning-Speech-Synthesis/blob/Mathias/main/notebooksMathiasTestUpload.ipynb\" target=\"_parent\"><img src=\"https://colab.research.google.com/assets/colab-badge.svg\" alt=\"Open In Colab\"/></a>"
      ]
    },
    {
      "cell_type": "markdown",
      "source": [
        "Nothing to see here <.<"
      ],
      "metadata": {
        "id": "1aUfnHvacK5m"
      }
    },
    {
      "cell_type": "code",
      "execution_count": 1,
      "metadata": {
        "colab": {
          "base_uri": "https://localhost:8080/",
          "height": 130
        },
        "id": "dbFu9zPwcGTd",
        "outputId": "8e82adbd-640c-4e7b-8bfb-168b03543c3a"
      },
      "outputs": [
        {
          "output_type": "error",
          "ename": "SyntaxError",
          "evalue": "ignored",
          "traceback": [
            "\u001b[0;36m  File \u001b[0;32m\"<ipython-input-1-89a263381ce1>\"\u001b[0;36m, line \u001b[0;32m1\u001b[0m\n\u001b[0;31m    2+2=5\u001b[0m\n\u001b[0m         ^\u001b[0m\n\u001b[0;31mSyntaxError\u001b[0m\u001b[0;31m:\u001b[0m can't assign to operator\n"
          ]
        }
      ],
      "source": [
        "2+2=5"
      ]
    }
  ]
}